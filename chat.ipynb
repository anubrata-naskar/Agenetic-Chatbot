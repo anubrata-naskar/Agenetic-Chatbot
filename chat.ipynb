{
 "cells": [
  {
   "cell_type": "code",
   "execution_count": 30,
   "id": "7dc9bf29",
   "metadata": {},
   "outputs": [
    {
     "data": {
      "text/plain": [
       "True"
      ]
     },
     "execution_count": 30,
     "metadata": {},
     "output_type": "execute_result"
    }
   ],
   "source": [
    "from langgraph.graph import StateGraph, START, END\n",
    "from typing import TypedDict, Annotated\n",
    "from langchain_core.messages import BaseMessage, HumanMessage, AIMessage\n",
    "from langchain_google_genai import ChatGoogleGenerativeAI\n",
    "from langgraph.checkpoint.memory import MemorySaver\n",
    "\n",
    "from dotenv import load_dotenv\n",
    "load_dotenv()"
   ]
  },
  {
   "cell_type": "code",
   "execution_count": 31,
   "id": "4cb303f8",
   "metadata": {},
   "outputs": [],
   "source": [
    "from langgraph.graph.message import add_messages\n",
    "\n",
    "class ChatState(TypedDict):\n",
    "    messages: Annotated[list[BaseMessage], add_messages]"
   ]
  },
  {
   "cell_type": "code",
   "execution_count": 32,
   "id": "998919bb",
   "metadata": {},
   "outputs": [],
   "source": [
    "chat_model = ChatGoogleGenerativeAI(\n",
    "    model=\"gemini-1.5-flash\",\n",
    "    temperature=0.7,\n",
    "    max_tokens=1000\n",
    ")\n",
    "\n",
    "def chat_node(state: ChatState) -> ChatState:\n",
    "    messages = state['messages'] if state['messages'] else [HumanMessage(content=\"Hello!\")]\n",
    "\n",
    "    ai_response = chat_model.invoke(messages)\n",
    "\n",
    "    return {\n",
    "        'messages': messages + [AIMessage(content=ai_response.content)]\n",
    "    }"
   ]
  },
  {
   "cell_type": "code",
   "execution_count": 35,
   "id": "db9f1973",
   "metadata": {},
   "outputs": [],
   "source": [
    "checkpointer = MemorySaver()\n",
    "graph = StateGraph(ChatState)\n",
    "\n",
    "graph.add_node('chat_node', chat_node)\n",
    "\n",
    "graph.add_edge(START, 'chat_node')\n",
    "graph.add_edge('chat_node', END)\n",
    "\n",
    "chatbot = graph.compile(checkpointer=checkpointer)"
   ]
  },
  {
   "cell_type": "code",
   "execution_count": 36,
   "id": "f6b363f7",
   "metadata": {},
   "outputs": [
    {
     "name": "stdout",
     "output_type": "stream",
     "text": [
      "You: hi I am anubrata\n",
      "AI: Hello Anubrata!  How can I help you today?\n",
      "AI: Hello Anubrata!  How can I help you today?\n",
      "You: what is name?\n",
      "You: what is name?\n",
      "AI: I don't have a name. I am a large language model, an AI.\n",
      "AI: I don't have a name. I am a large language model, an AI.\n",
      "You: what is my name?\n",
      "You: what is my name?\n",
      "AI: Your name is Anubrata.\n",
      "AI: Your name is Anubrata.\n",
      "You: exit\n",
      "Exiting the chat.\n",
      "You: exit\n",
      "Exiting the chat.\n"
     ]
    }
   ],
   "source": [
    "thread_id='1'\n",
    "while True:\n",
    "    user_input = input(\"Type here: \")\n",
    "    \n",
    "    print(f\"You: {user_input}\")\n",
    "    if user_input.strip().lower() in ['exit', 'quit']:\n",
    "        print(\"Exiting the chat.\")\n",
    "        break\n",
    "    \n",
    "    config = {'configurable': {'thread_id': thread_id}}\n",
    "    response = chatbot.invoke({\n",
    "        'messages': [HumanMessage(content=user_input)]}, config=config)\n",
    "    \n",
    "    print('AI: ' + response['messages'][-1].content)\n",
    "    "
   ]
  },
  {
   "cell_type": "code",
   "execution_count": 40,
   "id": "f93a8dd4",
   "metadata": {},
   "outputs": [
    {
     "data": {
      "text/plain": [
       "StateSnapshot(values={'messages': [HumanMessage(content='hi I am anubrata', additional_kwargs={}, response_metadata={}, id='b0131a8b-2769-4609-b41d-8f51abf7394c'), AIMessage(content='Hello Anubrata!  How can I help you today?', additional_kwargs={}, response_metadata={}, id='6a369def-75a3-4163-9bb3-ba2aa7a3a9d9'), HumanMessage(content='what is name?', additional_kwargs={}, response_metadata={}, id='f72135f3-d88b-4cf5-817f-b3b346128150'), AIMessage(content=\"I don't have a name. I am a large language model, an AI.\", additional_kwargs={}, response_metadata={}, id='97c7fe1c-79d6-48e5-8c5b-d591f60d0aa6'), HumanMessage(content='what is my name?', additional_kwargs={}, response_metadata={}, id='11fad4f3-84c3-43fb-80ee-df2ce9dc0b70'), AIMessage(content='Your name is Anubrata.', additional_kwargs={}, response_metadata={}, id='7c83fcd6-8d84-491d-b018-42c8d988d59b')]}, next=(), config={'configurable': {'thread_id': '1', 'checkpoint_ns': '', 'checkpoint_id': '1f0700c0-e37b-683a-8007-036a1623c276'}}, metadata={'source': 'loop', 'step': 7, 'parents': {}}, created_at='2025-08-03T01:49:12.893620+00:00', parent_config={'configurable': {'thread_id': '1', 'checkpoint_ns': '', 'checkpoint_id': '1f0700c0-dd50-6fe2-8006-853cc74d1aa1'}}, tasks=(), interrupts=())"
      ]
     },
     "execution_count": 40,
     "metadata": {},
     "output_type": "execute_result"
    }
   ],
   "source": [
    "chatbot.get_state(config=config)"
   ]
  },
  {
   "cell_type": "code",
   "execution_count": null,
   "id": "591841e4",
   "metadata": {},
   "outputs": [],
   "source": []
  }
 ],
 "metadata": {
  "kernelspec": {
   "display_name": "myenv",
   "language": "python",
   "name": "python3"
  },
  "language_info": {
   "codemirror_mode": {
    "name": "ipython",
    "version": 3
   },
   "file_extension": ".py",
   "mimetype": "text/x-python",
   "name": "python",
   "nbconvert_exporter": "python",
   "pygments_lexer": "ipython3",
   "version": "3.13.5"
  }
 },
 "nbformat": 4,
 "nbformat_minor": 5
}
